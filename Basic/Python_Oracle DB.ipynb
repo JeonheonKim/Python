{
 "cells": [
  {
   "cell_type": "markdown",
   "metadata": {
    "slideshow": {
     "slide_type": "slide"
    }
   },
   "source": [
    "# cx_Oracle 모듈\n",
    "- 파이썬에서 오라클 DBMS와 연동는 다양한 함수를 제공하는 모듈\n",
    "- Python DB API 2.0 표준을 따른다. \n",
    "\n",
    "## 참고\n",
    "- [cx_Oracle 모듈 홈페이지](https://oracle.github.io/python-cx_Oracle/)\n",
    "- [Python DB API](https://docs.python.org/ko/3/library/sqlite3.html)"
   ]
  },
  {
   "cell_type": "markdown",
   "metadata": {
    "slideshow": {
     "slide_type": "slide"
    }
   },
   "source": [
    "## cx_Oracle 모듈 설치\n",
    "- [설치 튜토리얼](https://cx-oracle.readthedocs.io/en/latest/user_guide/installation.html)\n",
    "- 패키지 설치\n",
    "```\n",
    "conda install cx_oracle\n",
    "pip install cx_Oracle --upgrade\n",
    "```"
   ]
  },
  {
   "cell_type": "markdown",
   "metadata": {
    "slideshow": {
     "slide_type": "slide"
    }
   },
   "source": [
    "## 코딩 절차\n",
    "1. cx_Oracle 모듈 import"
   ]
  },
  {
   "cell_type": "markdown",
   "metadata": {
    "slideshow": {
     "slide_type": "fragment"
    }
   },
   "source": [
    "2. cx_Oracle모듈의 connect() 함수를 이용해 디비연결"
   ]
  },
  {
   "cell_type": "markdown",
   "metadata": {
    "slideshow": {
     "slide_type": "fragment"
    }
   },
   "source": [
    "3. Connection 객체의 cursor() 메소드를 이용해 Cursor객체 조회.\n",
    "    - Cursor객체: sql문을 전송하고 select결과 조회 기능을 제공하는 객체"
   ]
  },
  {
   "cell_type": "markdown",
   "metadata": {
    "slideshow": {
     "slide_type": "fragment"
    }
   },
   "source": [
    "4. Cursor 의 execute() 메소드를 이용해 SQL문 전송"
   ]
  },
  {
   "cell_type": "markdown",
   "metadata": {
    "slideshow": {
     "slide_type": "fragment"
    }
   },
   "source": [
    "5. SELECT 의 경우 결과 조회.\n",
    "    - 조회결과 한행씩 반환받아 사용\n",
    "    - 조회결과 한번에 반환받아 사용"
   ]
  },
  {
   "cell_type": "markdown",
   "metadata": {
    "slideshow": {
     "slide_type": "fragment"
    }
   },
   "source": [
    "6. INSERT/DELETE/UPDATE의 경우  SQL 문 실행 후 Connection의 commit() 메소드를 이용해 Transaction 처리"
   ]
  },
  {
   "cell_type": "markdown",
   "metadata": {
    "slideshow": {
     "slide_type": "fragment"
    }
   },
   "source": [
    "7. Cursor, Connection 연결 닫기"
   ]
  },
  {
   "cell_type": "markdown",
   "metadata": {
    "slideshow": {
     "slide_type": "slide"
    }
   },
   "source": [
    "### DB 연결\n",
    "- connect() 함수를 이용하며 연결 후 Connection 객체를 받는다.\n",
    "- 연결시 필요한 값\n",
    "    - **host**\n",
    "    - **port번호**\n",
    "    - **SID(DB Name)**\n",
    "    - **user name**\n",
    "    - **password**\n",
    "\n",
    "### Connection 주요 메소드\n",
    "- commit(): 커밋\n",
    "- rollback(): 롤백\n",
    "- close(): 연결 닫기"
   ]
  },
  {
   "cell_type": "code",
   "execution_count": 2,
   "metadata": {},
   "outputs": [
    {
     "name": "stdout",
     "output_type": "stream",
     "text": [
      "<class 'cx_Oracle.Connection'>\n"
     ]
    }
   ],
   "source": [
    "# connect()함수를 이용해 연결 -> Connection 객체 반환\n",
    "# Connection객체: 연결정보를 가지고 있는 객체\n",
    "import cx_Oracle\n",
    "username = 'c##scott_join'\n",
    "password = 'tiger'\n",
    "url = 'localhost:1521/XE' #host:port/SID\n",
    "conn = cx_Oracle.connect(username, password, url) #연결\n",
    "print(type(conn))\n",
    "conn.close() # 연결 해제"
   ]
  },
  {
   "cell_type": "code",
   "execution_count": 4,
   "metadata": {},
   "outputs": [
    {
     "name": "stdout",
     "output_type": "stream",
     "text": [
      "<class 'cx_Oracle.Connection'>\n"
     ]
    }
   ],
   "source": [
    "# Username/Password@URL\n",
    "conn2 = cx_Oracle.connect(\"c##scott_join/tiger@localhost:1521/XE\")\n",
    "print(type(conn2))\n",
    "conn2.close()"
   ]
  },
  {
   "cell_type": "markdown",
   "metadata": {
    "slideshow": {
     "slide_type": "slide"
    }
   },
   "source": [
    "#### DSN (Data Source Name) 을 이용한 연결\n",
    "- DSN: DBMS를 연결하기 위한 정보를 모아 놓은 것. (서로 다른 DBMS의 연결정보를 통일하기 위해서 방식)\n",
    "- makedsn(host, port번호, SID) 함수 이용해 생성한다."
   ]
  },
  {
   "cell_type": "code",
   "execution_count": 8,
   "metadata": {},
   "outputs": [
    {
     "name": "stdout",
     "output_type": "stream",
     "text": [
      "(DESCRIPTION=(ADDRESS=(PROTOCOL=TCP)(HOST=localhost)(PORT=1521))(CONNECT_DATA=(SID=XE)))\n",
      "<class 'cx_Oracle.Connection'>\n"
     ]
    }
   ],
   "source": [
    "username = 'c##scott_join'\n",
    "password = 'tiger'\n",
    "host = 'localhost'\n",
    "port = 1521\n",
    "sid = 'XE'\n",
    "dsn = cx_Oracle.makedsn(host,port,sid)\n",
    "print(dsn)\n",
    "conn3 = cx_Oracle.connect(username,password,dsn)\n",
    "print(type(conn3))\n",
    "conn3.close()"
   ]
  },
  {
   "cell_type": "code",
   "execution_count": 9,
   "metadata": {},
   "outputs": [],
   "source": [
    "# with block 나오면 자동으로 close() 처리\n",
    "with cx_Oracle.connect(username, password, dsn) as conn4:\n",
    "#   DB 관련 업무\n",
    "    pass"
   ]
  },
  {
   "cell_type": "markdown",
   "metadata": {
    "slideshow": {
     "slide_type": "slide"
    }
   },
   "source": [
    "## Cursor 객체\n",
    "- SQL문을 전송하고 select결과를 조회하는 메소드들을 제공한다.\n",
    "- Connection객체의 cursor() 메소드로 받아온다."
   ]
  },
  {
   "cell_type": "markdown",
   "metadata": {
    "slideshow": {
     "slide_type": "subslide"
    }
   },
   "source": [
    "### Cursor의 주요 메소드\n",
    "#### SQL 실행 메소드\n",
    "- execute(sql) : 하나의 sql 문 실행. \n",
    "- executemany(sql): insert, update, delete 배치 처리\n",
    "    - insert, update, delete는 다 처리후 conn.commit()으로 커밋 처리해야한다.\n",
    "    "
   ]
  },
  {
   "cell_type": "markdown",
   "metadata": {
    "slideshow": {
     "slide_type": "fragment"
    }
   },
   "source": [
    "#### select 결과 조회 메소드\n",
    "- execute()로 실행한 SQL이 select인 경우 다음 메소드로 조회한다.\n",
    "- fetchall()  : 조회된 모든 행을 한번에 가져올 때 사용한다. 결과를 tuple들을 묶은 리스트로 반환\n",
    "- fetchone()  : 호출시 마다 한행씩 반환한다. PK로 조회한 경우 많이 사용한다.\n",
    "- fetchmany(n): n행만큼 조회한다. n기본값-100. 특정개수반큼 반복문을 이용해 가져올때 사용."
   ]
  },
  {
   "cell_type": "code",
   "execution_count": 10,
   "metadata": {},
   "outputs": [],
   "source": [
    "import cx_Oracle\n",
    "from pprint import pprint # 자료구조를 보기좋게 출력"
   ]
  },
  {
   "cell_type": "code",
   "execution_count": 34,
   "metadata": {},
   "outputs": [
    {
     "name": "stdout",
     "output_type": "stream",
     "text": [
      "connect successfully\n",
      "62\n",
      "[(100, 'Steven', 'AD_PRES'),\n",
      " (101, 'Neena', 'AD_VP'),\n",
      " (102, 'Lex', 'AD_VP'),\n",
      " (108, 'Nancy', 'FI_MGR'),\n",
      " (109, 'Daniel', 'FI_ACCOUNT'),\n",
      " (110, 'John', 'FI_ACCOUNT'),\n",
      " (111, 'Ismael', 'FI_ACCOUNT'),\n",
      " (112, 'Jose Manuel', 'FI_ACCOUNT'),\n",
      " (113, 'Luis', 'FI_ACCOUNT'),\n",
      " (114, 'Den', 'PU_MAN'),\n",
      " (115, 'Alexander', 'PU_MAN'),\n",
      " (120, 'Matthew', 'ST_MAN'),\n",
      " (121, 'Adam', 'ST_MAN'),\n",
      " (122, 'Payam', 'ST_MAN'),\n",
      " (123, 'Shanta', 'ST_MAN'),\n",
      " (124, 'Kevin', 'ST_MAN'),\n",
      " (130, 'Mozhe', None),\n",
      " (131, 'James', None),\n",
      " (140, 'Joshua', None),\n",
      " (145, 'John', 'SA_MAN'),\n",
      " (146, 'Karen', 'SA_MAN'),\n",
      " (147, 'Alberto', 'SA_MAN'),\n",
      " (148, 'Gerald', 'SA_MAN'),\n",
      " (149, 'Eleni', 'SA_MAN'),\n",
      " (150, 'Peter', 'SA_REP'),\n",
      " (151, 'David', 'SA_REP'),\n",
      " (152, 'Peter', 'SA_REP'),\n",
      " (153, 'Christopher', 'SA_REP'),\n",
      " (154, 'Nanette', 'SA_REP'),\n",
      " (155, 'Oliver', 'SA_REP'),\n",
      " (156, 'Janette', 'SA_REP'),\n",
      " (157, 'Patrick', 'SA_REP'),\n",
      " (158, 'Allan', 'SA_REP'),\n",
      " (159, 'Lindsey', 'SA_REP'),\n",
      " (160, 'Louise', 'SA_REP'),\n",
      " (161, 'Sarath', 'SA_REP'),\n",
      " (162, 'Clara', 'SA_REP'),\n",
      " (163, 'Danielle', 'SA_REP'),\n",
      " (164, 'Mattea', 'SA_REP'),\n",
      " (165, 'David', 'SA_REP'),\n",
      " (166, 'Sundar', 'SA_REP'),\n",
      " (167, 'Amit', 'SA_REP'),\n",
      " (168, 'Lisa', 'SA_REP'),\n",
      " (169, 'Harrison', 'SA_REP'),\n",
      " (170, 'Tayler', 'SA_REP'),\n",
      " (171, 'William', 'SA_REP'),\n",
      " (172, 'Elizabeth', 'SA_REP'),\n",
      " (173, 'Sundita', 'SA_REP'),\n",
      " (174, 'Ellen', 'SA_REP'),\n",
      " (176, 'Jonathon', 'SA_REP'),\n",
      " (177, 'Jack', 'SA_REP'),\n",
      " (179, 'Charles', 'SA_REP'),\n",
      " (187, 'Anthony', None),\n",
      " (190, 'Timothy', None),\n",
      " (191, 'Randall', None),\n",
      " (201, 'Michael', 'MK_MAN'),\n",
      " (202, 'Pat', 'MK_REP'),\n",
      " (203, 'Susan', 'HR_REP'),\n",
      " (204, 'Hermann', 'PR_REP'),\n",
      " (205, 'Shelley', 'AC_MGR'),\n",
      " (206, 'William', 'AC_ACCOUNT'),\n",
      " (1500, '홍길동', 'FI_ACCOUNT')]\n",
      "연결\n"
     ]
    }
   ],
   "source": [
    "# sql문: 문자열로 작성, 대소문자 구분 x (sql의 key Word들은 대문자로 작성, 컬럼명/Table명은 소문자)\n",
    "#      : ';' 은 작성 x\n",
    "select_sql = \"SELECT emp_id,emp_name,job_id FROM emp\"\n",
    "insert_sql = \"INSERT INTO emp VALUES (1500,'홍길동','FI_ACCOUNT','101',to_date(sysdate,'yyyy/mm/dd'),30000, 0.2, 100)\"\n",
    "conn = None   # Connection 대입할 변수\n",
    "cursor = None # Cursor 대입할 변수\n",
    "\n",
    "# INSERT 후에 SELECT\n",
    "try:\n",
    "    #1.연결\n",
    "    conn = cx_Oracle.connect(\"c##scott_join/tiger@localhost:1521/XE\")\n",
    "    print(\"connect successfully\")\n",
    "    #2.Cursor 생성\n",
    "    cursor = conn.cursor()\n",
    "    #3.sql 실행\n",
    "    cursor.execute(insert_sql)\n",
    "    cursor.execute(select_sql)\n",
    "    #4.select 결과 조회\n",
    "    result = cursor.fetchall() # 조회결과를 한번에 반환. 한행 -tuple, 리스트로 tuple 들을 묶어서 반환\n",
    "    pprint(len(result)); pprint(result)\n",
    "    #5.INSERT/UPDATE/DELETE --> commit\n",
    "    conn.commit()\n",
    "except Exception as e:\n",
    "    print(e)\n",
    "finally:\n",
    "    #6.연결 닫기\n",
    "    if cursor:\n",
    "        cursor.close()\n",
    "    if conn:\n",
    "        print(\"연결\")\n",
    "        conn.close()"
   ]
  },
  {
   "cell_type": "markdown",
   "metadata": {
    "slideshow": {
     "slide_type": "slide"
    }
   },
   "source": [
    "## placeholder(자리표시자)를 이용해 sql 실행\n",
    "- SQL에 값이 들어갈 자리에 값을 대신할 문자 **`:순번` 또는 `:이름`** 를 넣고 SQL 실행시 값을 전달\n",
    "> placehold 는 DBMS마다 다르다. \n",
    "- execute(SQL, placeholder에 들어갈 값)\n",
    "    - 딕셔너리: placeholder의 이름-값 형식\n",
    "    - 리스트나 튜플: placeholder 순서"
   ]
  },
  {
   "cell_type": "code",
   "execution_count": 1,
   "metadata": {},
   "outputs": [],
   "source": [
    "import cx_Oracle\n",
    "from pprint import pprint"
   ]
  },
  {
   "cell_type": "code",
   "execution_count": 11,
   "metadata": {},
   "outputs": [
    {
     "name": "stdout",
     "output_type": "stream",
     "text": [
      "15000 ~ 20000 사이 salary 조회\n",
      "[(101,\n",
      "  'Neena',\n",
      "  'AD_VP',\n",
      "  None,\n",
      "  datetime.datetime(2021, 2, 5, 12, 15, 22),\n",
      "  17000.0,\n",
      "  None,\n",
      "  90),\n",
      " (102,\n",
      "  'Lex',\n",
      "  'AD_VP',\n",
      "  None,\n",
      "  datetime.datetime(2021, 2, 5, 12, 15, 22),\n",
      "  17000.0,\n",
      "  None,\n",
      "  90),\n",
      " (2000,\n",
      "  '이순신',\n",
      "  'FI_ACCOUNT',\n",
      "  101,\n",
      "  datetime.datetime(2021, 2, 13, 0, 0),\n",
      "  19999.0,\n",
      "  None,\n",
      "  110)]\n",
      "2000 ~ 3000 사이 salary 조회\n",
      "[(130,\n",
      "  'Mozhe',\n",
      "  None,\n",
      "  None,\n",
      "  datetime.datetime(2021, 2, 5, 12, 15, 22),\n",
      "  2800.0,\n",
      "  None,\n",
      "  50),\n",
      " (131,\n",
      "  'James',\n",
      "  None,\n",
      "  None,\n",
      "  datetime.datetime(2021, 2, 5, 12, 15, 22),\n",
      "  2500.0,\n",
      "  None,\n",
      "  50),\n",
      " (140,\n",
      "  'Joshua',\n",
      "  None,\n",
      "  None,\n",
      "  datetime.datetime(2021, 2, 5, 12, 15, 22),\n",
      "  2500.0,\n",
      "  None,\n",
      "  50),\n",
      " (187,\n",
      "  'Anthony',\n",
      "  None,\n",
      "  None,\n",
      "  datetime.datetime(2021, 2, 5, 12, 15, 22),\n",
      "  3000.0,\n",
      "  None,\n",
      "  50),\n",
      " (190,\n",
      "  'Timothy',\n",
      "  None,\n",
      "  None,\n",
      "  datetime.datetime(2021, 2, 5, 12, 15, 22),\n",
      "  2900.0,\n",
      "  None,\n",
      "  50),\n",
      " (191,\n",
      "  'Randall',\n",
      "  None,\n",
      "  None,\n",
      "  datetime.datetime(2021, 2, 5, 12, 15, 22),\n",
      "  2500.0,\n",
      "  None,\n",
      "  50)]\n"
     ]
    }
   ],
   "source": [
    "select_sql = \"SELECT* FROM emp WHERE salary BETWEEN :1 AND :2\"\n",
    "insert_sql = \"INSERT INTO emp VALUES(:id,:name,:job_id,:mgr_id,to_date(:hire_date,'yyyymmdd'), :salary, :comm_pct, :dept_id)\"\n",
    "conn = None\n",
    "cursor = None\n",
    "try :\n",
    "    conn = cx_Oracle.connect('c##scott_join/tiger@localhost:1521/XE')\n",
    "    cursor = conn.cursor()\n",
    "    \n",
    "    \"\"\"\n",
    "    SQL문 실행\n",
    "    varchar2/char/nvarchar/nchar => str\n",
    "    number => int/double\n",
    "    date : datetime Object\n",
    "    NULL => None\n",
    "    \"\"\" \n",
    "    para_dict = {\n",
    "        'id':2000,\n",
    "        'name':'이순신',\n",
    "        'job_id':'FI_ACCOUNT',\n",
    "        'mgr_id':101,\n",
    "        'hire_date':'20210213',\n",
    "        'salary':19999,\n",
    "        'comm_pct':None,\n",
    "        'dept_id':110\n",
    "    }\n",
    "    cursor.execute(insert_sql,para_dict)\n",
    "    \n",
    "    print('15000 ~ 20000 사이 salary 조회')\n",
    "    cursor.execute(select_sql,[15000,20000])\n",
    "    result1 = cursor.fetchall()\n",
    "    pprint(result1)\n",
    "    \n",
    "    print('2000 ~ 3000 사이 salary 조회')\n",
    "    cursor.execute(select_sql,[2000,3000])\n",
    "    result2 = cursor.fetchall()\n",
    "    pprint(result2)\n",
    "except Exception as e:\n",
    "    print(e)\n",
    "finally:\n",
    "    if cursor:\n",
    "        cursor.close()\n",
    "    if conn:\n",
    "        conn.close()"
   ]
  },
  {
   "cell_type": "markdown",
   "metadata": {
    "slideshow": {
     "slide_type": "slide"
    }
   },
   "source": [
    "## SELECT  결과 조회\n",
    "\n",
    "### fetchone()\n",
    "- 조회결과 한행씩 반환한다.\n",
    "- PK로 조회시 사용한다."
   ]
  },
  {
   "cell_type": "markdown",
   "metadata": {
    "slideshow": {
     "slide_type": "fragment"
    }
   },
   "source": [
    "### fetchall()\n",
    "- 조회한 전체 결과셋을 반환한다.\n",
    "- 한 row를 Tuple로 묶고 그 Tuple들을 List로 묶어서 반환한다."
   ]
  },
  {
   "cell_type": "markdown",
   "metadata": {
    "slideshow": {
     "slide_type": "fragment"
    }
   },
   "source": [
    "### fetchmany(n)\n",
    "- n 행씩 조회할 때 사용\n",
    "- n 기본값 100"
   ]
  },
  {
   "cell_type": "code",
   "execution_count": 27,
   "metadata": {},
   "outputs": [],
   "source": [
    "# emp_id(pk)로 직원 정보 조회\n",
    "def select_emp_by_id(emp_id):\n",
    "    sql = \"SELECT * FROM emp WHERE emp_id = :1\"\n",
    "    with cx_Oracle.connect('c##scott_join/tiger@localhost:1521/XE') as conn:\n",
    "        with conn.cursor() as cursor:\n",
    "            #sql 실행\n",
    "            cursor.execute(sql,[emp_id])\n",
    "            result = cursor.fetchone() #1행 조회, 조회결과가 없으면 None 반환\n",
    "            return result"
   ]
  },
  {
   "cell_type": "code",
   "execution_count": 29,
   "metadata": {},
   "outputs": [
    {
     "name": "stdout",
     "output_type": "stream",
     "text": [
      "(100, 'Steven', 'AD_PRES', None, datetime.datetime(2021, 2, 5, 12, 15, 22), 24000.0, None, 90)\n"
     ]
    }
   ],
   "source": [
    "r = select_emp_by_id(100)\n",
    "if r:\n",
    "    print(r)\n",
    "else:\n",
    "    print('조회결과가 없습니다')\n"
   ]
  },
  {
   "cell_type": "code",
   "execution_count": 38,
   "metadata": {},
   "outputs": [
    {
     "name": "stdout",
     "output_type": "stream",
     "text": [
      "10\n",
      "[(100, 'Steven', 'AD_PRES', None, datetime.datetime(2021, 2, 5, 12, 15, 22), 24000.0, None, 90), (101, 'Neena', 'AD_VP', None, datetime.datetime(2021, 2, 5, 12, 15, 22), 17000.0, None, 90), (102, 'Lex', 'AD_VP', None, datetime.datetime(2021, 2, 5, 12, 15, 22), 17000.0, None, 90), (108, 'Nancy', 'FI_MGR', None, datetime.datetime(2021, 2, 5, 12, 15, 22), 12008.0, None, 100), (109, 'Daniel', 'FI_ACCOUNT', None, datetime.datetime(2021, 2, 5, 12, 15, 22), 9000.0, None, 100), (110, 'John', 'FI_ACCOUNT', None, datetime.datetime(2021, 2, 5, 12, 15, 22), 8200.0, None, 100), (111, 'Ismael', 'FI_ACCOUNT', None, datetime.datetime(2021, 2, 5, 12, 15, 22), 7700.0, None, 100), (112, 'Jose Manuel', 'FI_ACCOUNT', None, datetime.datetime(2021, 2, 5, 12, 15, 22), 7800.0, None, 100), (113, 'Luis', 'FI_ACCOUNT', None, datetime.datetime(2021, 2, 5, 12, 15, 22), 6900.0, None, 100), (114, 'Den', 'PU_MAN', None, datetime.datetime(2021, 2, 5, 12, 15, 22), 11000.0, None, 30)]\n",
      "10\n",
      "[(115, 'Alexander', 'PU_MAN', None, datetime.datetime(2021, 2, 5, 12, 15, 22), 9100.0, None, 30), (120, 'Matthew', 'ST_MAN', None, datetime.datetime(2021, 2, 5, 12, 15, 22), 8000.0, None, 50), (121, 'Adam', 'ST_MAN', None, datetime.datetime(2021, 2, 5, 12, 15, 22), 8200.0, None, 50), (122, 'Payam', 'ST_MAN', None, datetime.datetime(2021, 2, 5, 12, 15, 22), 7900.0, None, 50), (123, 'Shanta', 'ST_MAN', None, datetime.datetime(2021, 2, 5, 12, 15, 22), 6500.0, None, 50), (124, 'Kevin', 'ST_MAN', None, datetime.datetime(2021, 2, 5, 12, 15, 22), 5800.0, None, 50), (130, 'Mozhe', None, None, datetime.datetime(2021, 2, 5, 12, 15, 22), 2800.0, None, 50), (131, 'James', None, None, datetime.datetime(2021, 2, 5, 12, 15, 22), 2500.0, None, 50), (140, 'Joshua', None, None, datetime.datetime(2021, 2, 5, 12, 15, 22), 2500.0, None, 50), (145, 'John', 'SA_MAN', None, datetime.datetime(2021, 2, 5, 12, 15, 22), 14000.0, None, 80)]\n"
     ]
    }
   ],
   "source": [
    "sql = \"SELECT * FROM emp\"\n",
    "with cx_Oracle.connect('c##scott_join/tiger@localhost:1521/XE') as conn:\n",
    "    with conn.cursor() as cursor:\n",
    "        #sql 실행\n",
    "        cursor.execute(sql)\n",
    "        result = cursor.fetchmany(10)\n",
    "#         pprint(list(zip(*result)))\n",
    "        print(len(result))\n",
    "        print(result)\n",
    "    \n",
    "        result = cursor.fetchmany(10)\n",
    "        print(len(result))\n",
    "        print(result)"
   ]
  },
  {
   "cell_type": "markdown",
   "metadata": {},
   "source": [
    "### cursor를 for in 문을 이용해 select결과 조회\n",
    "- select후 cursor는 Iterable 한 객체.\n",
    "- cursor는 반복시마다 조회한 한행을 반환."
   ]
  },
  {
   "cell_type": "code",
   "execution_count": 47,
   "metadata": {},
   "outputs": [
    {
     "name": "stdout",
     "output_type": "stream",
     "text": [
      "1 : (100, 'Steven', 'AD_PRES', None, datetime.datetime(2021, 2, 5, 12, 15, 22), 24000.0, None, 90)\n",
      "2 : (101, 'Neena', 'AD_VP', None, datetime.datetime(2021, 2, 5, 12, 15, 22), 17000.0, None, 90)\n",
      "3 : (102, 'Lex', 'AD_VP', None, datetime.datetime(2021, 2, 5, 12, 15, 22), 17000.0, None, 90)\n",
      "4 : (108, 'Nancy', 'FI_MGR', None, datetime.datetime(2021, 2, 5, 12, 15, 22), 12008.0, None, 100)\n",
      "5 : (109, 'Daniel', 'FI_ACCOUNT', None, datetime.datetime(2021, 2, 5, 12, 15, 22), 9000.0, None, 100)\n",
      "6 : (110, 'John', 'FI_ACCOUNT', None, datetime.datetime(2021, 2, 5, 12, 15, 22), 8200.0, None, 100)\n",
      "7 : (111, 'Ismael', 'FI_ACCOUNT', None, datetime.datetime(2021, 2, 5, 12, 15, 22), 7700.0, None, 100)\n",
      "8 : (112, 'Jose Manuel', 'FI_ACCOUNT', None, datetime.datetime(2021, 2, 5, 12, 15, 22), 7800.0, None, 100)\n",
      "9 : (113, 'Luis', 'FI_ACCOUNT', None, datetime.datetime(2021, 2, 5, 12, 15, 22), 6900.0, None, 100)\n",
      "10 : (114, 'Den', 'PU_MAN', None, datetime.datetime(2021, 2, 5, 12, 15, 22), 11000.0, None, 30)\n",
      "11 : (115, 'Alexander', 'PU_MAN', None, datetime.datetime(2021, 2, 5, 12, 15, 22), 9100.0, None, 30)\n",
      "12 : (120, 'Matthew', 'ST_MAN', None, datetime.datetime(2021, 2, 5, 12, 15, 22), 8000.0, None, 50)\n",
      "13 : (121, 'Adam', 'ST_MAN', None, datetime.datetime(2021, 2, 5, 12, 15, 22), 8200.0, None, 50)\n",
      "14 : (122, 'Payam', 'ST_MAN', None, datetime.datetime(2021, 2, 5, 12, 15, 22), 7900.0, None, 50)\n",
      "15 : (123, 'Shanta', 'ST_MAN', None, datetime.datetime(2021, 2, 5, 12, 15, 22), 6500.0, None, 50)\n",
      "16 : (124, 'Kevin', 'ST_MAN', None, datetime.datetime(2021, 2, 5, 12, 15, 22), 5800.0, None, 50)\n",
      "17 : (130, 'Mozhe', None, None, datetime.datetime(2021, 2, 5, 12, 15, 22), 2800.0, None, 50)\n",
      "18 : (131, 'James', None, None, datetime.datetime(2021, 2, 5, 12, 15, 22), 2500.0, None, 50)\n",
      "19 : (140, 'Joshua', None, None, datetime.datetime(2021, 2, 5, 12, 15, 22), 2500.0, None, 50)\n",
      "20 : (145, 'John', 'SA_MAN', None, datetime.datetime(2021, 2, 5, 12, 15, 22), 14000.0, None, 80)\n",
      "21 : (146, 'Karen', 'SA_MAN', None, datetime.datetime(2021, 2, 5, 12, 15, 22), 13500.0, None, 80)\n",
      "22 : (147, 'Alberto', 'SA_MAN', None, datetime.datetime(2021, 2, 5, 12, 15, 22), 12000.0, None, 80)\n",
      "23 : (148, 'Gerald', 'SA_MAN', None, datetime.datetime(2021, 2, 5, 12, 15, 22), 11000.0, None, 80)\n",
      "24 : (149, 'Eleni', 'SA_MAN', None, datetime.datetime(2021, 2, 5, 12, 15, 22), 10500.0, None, 80)\n",
      "25 : (150, 'Peter', 'SA_REP', None, datetime.datetime(2021, 2, 5, 12, 15, 22), 10000.0, None, 80)\n",
      "26 : (151, 'David', 'SA_REP', None, datetime.datetime(2021, 2, 5, 12, 15, 22), 9500.0, None, 80)\n",
      "27 : (152, 'Peter', 'SA_REP', None, datetime.datetime(2021, 2, 5, 12, 15, 22), 9000.0, None, 80)\n",
      "28 : (153, 'Christopher', 'SA_REP', None, datetime.datetime(2021, 2, 5, 12, 15, 22), 8000.0, None, 80)\n",
      "29 : (154, 'Nanette', 'SA_REP', None, datetime.datetime(2021, 2, 5, 12, 15, 22), 7500.0, None, 80)\n",
      "30 : (155, 'Oliver', 'SA_REP', None, datetime.datetime(2021, 2, 5, 12, 15, 22), 7000.0, None, 80)\n",
      "31 : (156, 'Janette', 'SA_REP', None, datetime.datetime(2021, 2, 5, 12, 15, 22), 10000.0, None, 80)\n",
      "32 : (157, 'Patrick', 'SA_REP', None, datetime.datetime(2021, 2, 5, 12, 15, 22), 9500.0, None, 80)\n",
      "33 : (158, 'Allan', 'SA_REP', None, datetime.datetime(2021, 2, 5, 12, 15, 22), 9000.0, None, 80)\n",
      "34 : (159, 'Lindsey', 'SA_REP', None, datetime.datetime(2021, 2, 5, 12, 15, 22), 8000.0, None, 80)\n",
      "35 : (160, 'Louise', 'SA_REP', None, datetime.datetime(2021, 2, 5, 12, 15, 22), 7500.0, None, 80)\n",
      "36 : (161, 'Sarath', 'SA_REP', None, datetime.datetime(2021, 2, 5, 12, 15, 22), 7000.0, None, 80)\n",
      "37 : (162, 'Clara', 'SA_REP', None, datetime.datetime(2021, 2, 5, 12, 15, 22), 10500.0, None, 80)\n",
      "38 : (163, 'Danielle', 'SA_REP', None, datetime.datetime(2021, 2, 5, 12, 15, 22), 9500.0, None, 80)\n",
      "39 : (164, 'Mattea', 'SA_REP', None, datetime.datetime(2021, 2, 5, 12, 15, 22), 7200.0, None, 80)\n",
      "40 : (165, 'David', 'SA_REP', None, datetime.datetime(2021, 2, 5, 12, 15, 22), 6800.0, None, 80)\n",
      "41 : (166, 'Sundar', 'SA_REP', None, datetime.datetime(2021, 2, 5, 12, 15, 22), 6400.0, None, 80)\n",
      "42 : (167, 'Amit', 'SA_REP', None, datetime.datetime(2021, 2, 5, 12, 15, 22), 6200.0, None, 80)\n",
      "43 : (168, 'Lisa', 'SA_REP', None, datetime.datetime(2021, 2, 5, 12, 15, 22), 11500.0, None, 80)\n",
      "44 : (169, 'Harrison', 'SA_REP', None, datetime.datetime(2021, 2, 5, 12, 15, 22), 10000.0, None, 80)\n",
      "45 : (170, 'Tayler', 'SA_REP', None, datetime.datetime(2021, 2, 5, 12, 15, 22), 9600.0, None, 80)\n",
      "46 : (171, 'William', 'SA_REP', None, datetime.datetime(2021, 2, 5, 12, 15, 22), 7400.0, None, 80)\n",
      "47 : (172, 'Elizabeth', 'SA_REP', None, datetime.datetime(2021, 2, 5, 12, 15, 22), 7300.0, None, 80)\n",
      "48 : (173, 'Sundita', 'SA_REP', None, datetime.datetime(2021, 2, 5, 12, 15, 22), 6100.0, None, 80)\n",
      "49 : (174, 'Ellen', 'SA_REP', None, datetime.datetime(2021, 2, 5, 12, 15, 22), 11000.0, None, 80)\n",
      "50 : (176, 'Jonathon', 'SA_REP', None, datetime.datetime(2021, 2, 5, 12, 15, 22), 8600.0, None, 80)\n",
      "51 : (177, 'Jack', 'SA_REP', None, datetime.datetime(2021, 2, 5, 12, 15, 22), 8400.0, None, 80)\n",
      "52 : (179, 'Charles', 'SA_REP', None, datetime.datetime(2021, 2, 5, 12, 15, 22), 6200.0, None, 80)\n",
      "53 : (187, 'Anthony', None, None, datetime.datetime(2021, 2, 5, 12, 15, 22), 3000.0, None, 50)\n",
      "54 : (190, 'Timothy', None, None, datetime.datetime(2021, 2, 5, 12, 15, 22), 2900.0, None, 50)\n",
      "55 : (191, 'Randall', None, None, datetime.datetime(2021, 2, 5, 12, 15, 22), 2500.0, None, 50)\n",
      "56 : (201, 'Michael', 'MK_MAN', None, datetime.datetime(2021, 2, 5, 12, 15, 22), 13000.0, None, 20)\n",
      "57 : (202, 'Pat', 'MK_REP', None, datetime.datetime(2021, 2, 5, 12, 15, 22), 6000.0, None, 20)\n",
      "58 : (203, 'Susan', 'HR_REP', None, datetime.datetime(2021, 2, 5, 12, 15, 22), 6500.0, None, 40)\n",
      "59 : (204, 'Hermann', 'PR_REP', None, datetime.datetime(2021, 2, 5, 12, 15, 22), 10000.0, None, 70)\n",
      "60 : (205, 'Shelley', 'AC_MGR', None, datetime.datetime(2021, 2, 5, 12, 15, 22), 12008.0, None, 110)\n",
      "61 : (206, 'William', 'AC_ACCOUNT', None, datetime.datetime(2021, 2, 5, 12, 15, 22), 8300.0, None, 110)\n"
     ]
    }
   ],
   "source": [
    "sql = \"SELECT * FROM emp WHERE comm_pct IS NULL ORDER BY emp_id\"\n",
    "with cx_Oracle.connect('c##scott_join/tiger@localhost:1521/XE') as conn:\n",
    "    with conn.cursor() as cursor:\n",
    "        cursor.execute(sql)\n",
    "        for idx,row in enumerate(cursor,start = 1):\n",
    "            print(\"{} : {}\".format(idx,row))\n"
   ]
  },
  {
   "cell_type": "code",
   "execution_count": 51,
   "metadata": {},
   "outputs": [
    {
     "name": "stdout",
     "output_type": "stream",
     "text": [
      "[('AD_VP', 34000, 17000),\n",
      " ('FI_ACCOUNT', 69600, 11600),\n",
      " ('HR_REP', 6500, 6500),\n",
      " ('PU_MAN', 20100, 10050),\n",
      " ('AC_MGR', 12008, 12008),\n",
      " (None, 16200, 2700),\n",
      " ('SA_MAN', 61000, 12200),\n",
      " ('AC_ACCOUNT', 8300, 8300),\n",
      " ('FI_MGR', 12008, 12008),\n",
      " ('ST_MAN', 36400, 7280),\n",
      " ('AD_PRES', 24000, 24000),\n",
      " ('MK_MAN', 13000, 13000),\n",
      " ('SA_REP', 234700, 8382.14),\n",
      " ('MK_REP', 6000, 6000),\n",
      " ('PR_REP', 10000, 10000)]\n"
     ]
    }
   ],
   "source": [
    "sql = \"SELECT job_id, sum(salary), round(avg(salary),2) FROM emp GROUP BY job_id\"\n",
    "with cx_Oracle.connect('c##scott_join/tiger@localhost:1521/XE') as conn:\n",
    "    with conn.cursor() as cursor:\n",
    "        cursor.execute(sql)\n",
    "        result = cursor.fetchall()\n",
    "        pprint(result)"
   ]
  },
  {
   "cell_type": "code",
   "execution_count": 52,
   "metadata": {},
   "outputs": [
    {
     "name": "stdout",
     "output_type": "stream",
     "text": [
      "[('Michael', 'Marketing'),\n",
      " ('Pat', 'Marketing'),\n",
      " ('Den', 'Purchasing'),\n",
      " ('Alexander', 'Purchasing'),\n",
      " ('Susan', 'Human Resources'),\n",
      " ('Matthew', 'Shipping'),\n",
      " ('Adam', 'Shipping'),\n",
      " ('Payam', 'Shipping'),\n",
      " ('Shanta', 'Shipping'),\n",
      " ('Kevin', 'Shipping'),\n",
      " ('Mozhe', 'Shipping'),\n",
      " ('James', 'Shipping'),\n",
      " ('Joshua', 'Shipping'),\n",
      " ('Anthony', 'Shipping'),\n",
      " ('Timothy', 'Shipping'),\n",
      " ('Randall', 'Shipping'),\n",
      " ('Hermann', 'Public Relations'),\n",
      " ('John', 'Sales'),\n",
      " ('Karen', 'Sales'),\n",
      " ('Alberto', 'Sales'),\n",
      " ('Gerald', 'Sales'),\n",
      " ('Eleni', 'Sales'),\n",
      " ('Peter', 'Sales'),\n",
      " ('David', 'Sales'),\n",
      " ('Peter', 'Sales'),\n",
      " ('Christopher', 'Sales'),\n",
      " ('Nanette', 'Sales'),\n",
      " ('Oliver', 'Sales'),\n",
      " ('Janette', 'Sales'),\n",
      " ('Patrick', 'Sales'),\n",
      " ('Allan', 'Sales'),\n",
      " ('Lindsey', 'Sales'),\n",
      " ('Louise', 'Sales'),\n",
      " ('Sarath', 'Sales'),\n",
      " ('Clara', 'Sales'),\n",
      " ('Danielle', 'Sales'),\n",
      " ('Mattea', 'Sales'),\n",
      " ('David', 'Sales'),\n",
      " ('Sundar', 'Sales'),\n",
      " ('Amit', 'Sales'),\n",
      " ('Lisa', 'Sales'),\n",
      " ('Harrison', 'Sales'),\n",
      " ('Tayler', 'Sales'),\n",
      " ('William', 'Sales'),\n",
      " ('Elizabeth', 'Sales'),\n",
      " ('Sundita', 'Sales'),\n",
      " ('Ellen', 'Sales'),\n",
      " ('Jonathon', 'Sales'),\n",
      " ('Jack', 'Sales'),\n",
      " ('Charles', 'Sales'),\n",
      " ('Steven', 'Executive'),\n",
      " ('Neena', 'Executive'),\n",
      " ('Lex', 'Executive'),\n",
      " ('Nancy', 'Finance'),\n",
      " ('Daniel', 'Finance'),\n",
      " ('John', 'Finance'),\n",
      " ('Ismael', 'Finance'),\n",
      " ('Jose Manuel', 'Finance'),\n",
      " ('Luis', 'Finance'),\n",
      " ('홍길동', 'Finance'),\n",
      " ('Shelley', 'Accounting'),\n",
      " ('William', 'Accounting')]\n"
     ]
    }
   ],
   "source": [
    "sql = \"SELECT e.emp_name,d.dept_name FROM emp e left join dept d ON e.dept_id = d.dept_id\"\n",
    "with cx_Oracle.connect('c##scott_join/tiger@localhost:1521/XE') as conn:\n",
    "    with conn.cursor() as cursor:\n",
    "        cursor.execute(sql)\n",
    "        result = cursor.fetchall()\n",
    "        pprint(result)"
   ]
  },
  {
   "cell_type": "markdown",
   "metadata": {
    "slideshow": {
     "slide_type": "slide"
    }
   },
   "source": [
    "## INSERT / UPDATE/ DELETE\n",
    "- SQL 실행 후 Connection객체의 commit()을 호출 해야 최종적으로 적용된다.\n",
    "- commit()\n",
    "    - 최종 적용\n",
    "- rollback()\n",
    "    - 변경전 상태로 되돌리기\n",
    "\n",
    "### 사용할 테이블\n",
    "```sql\n",
    "create table test(\n",
    "    id varchar2(10),\n",
    "    name varchar2(100),\n",
    "    age number(3));\n",
    "```"
   ]
  },
  {
   "cell_type": "code",
   "execution_count": 55,
   "metadata": {},
   "outputs": [
    {
     "name": "stdout",
     "output_type": "stream",
     "text": [
      "ORA-00955: 기존의 객체가 이름을 사용하고 있습니다.\n"
     ]
    }
   ],
   "source": [
    "create_sql = 'create table test(id varchar2(10),name varchar2(100),age number(3))'\n",
    "insert_sql = 'INSERT INTO test VALUES (:1, :2, :3)'\n",
    "\n",
    "with cx_Oracle.connect('c##scott_join/tiger@localhost:1521/XE') as conn:\n",
    "    with conn.cursor() as cursor:\n",
    "        try:\n",
    "            cursor.execute(create_sql) # Create Table\n",
    "        except Exception as e:\n",
    "            print(e)\n",
    "        # Insert Rows\n",
    "        cursor.execute(insert_sql,[1,'이름1',20])\n",
    "        cursor.execute(insert_sql,[2,'이름2',30])\n",
    "        cursor.execute(insert_sql,[3,'이름3',40])\n",
    "        conn.commit() # commit\n",
    "        "
   ]
  },
  {
   "cell_type": "code",
   "execution_count": 57,
   "metadata": {},
   "outputs": [],
   "source": [
    "delete_sql = \"DELETE FROM test WHERE name = :1\"\n",
    "\n",
    "with cx_Oracle.connect('c##scott_join/tiger@localhost:1521/XE') as conn:\n",
    "    with conn.cursor() as cursor:\n",
    "        cursor.execute(delete_sql,['이름1'])\n",
    "        conn.commit()"
   ]
  },
  {
   "cell_type": "code",
   "execution_count": 61,
   "metadata": {},
   "outputs": [],
   "source": [
    "update_sql = \"UPDATE test SET name = :1\"\n",
    "\n",
    "with cx_Oracle.connect('c##scott_join/tiger@localhost:1521/XE') as conn:\n",
    "    with conn.cursor() as cursor:\n",
    "        cursor.execute(update_sql,['새이름'])\n",
    "        conn.commit()"
   ]
  },
  {
   "cell_type": "code",
   "execution_count": 64,
   "metadata": {},
   "outputs": [
    {
     "name": "stdout",
     "output_type": "stream",
     "text": [
      "[('a-1', '이름1', 20),\n",
      " ('a-2', '이름2', 30),\n",
      " ('a-3', '이름3', 40),\n",
      " ('a-4', '이름4', 50),\n",
      " ('2', '새이름', 30),\n",
      " ('3', '새이름', 40),\n",
      " ('2', '새이름', 30),\n",
      " ('3', '새이름', 40)]\n"
     ]
    }
   ],
   "source": [
    "select_sql = \"SELECT * FROM test\"\n",
    "\n",
    "with cx_Oracle.connect('c##scott_join/tiger@localhost:1521/XE') as conn:\n",
    "    with conn.cursor() as cursor:\n",
    "        cursor.execute(select_sql)\n",
    "        pprint(cursor.fetchall())"
   ]
  },
  {
   "cell_type": "markdown",
   "metadata": {
    "slideshow": {
     "slide_type": "slide"
    }
   },
   "source": [
    "## batch(일괄작업) 처리\n",
    "- 한번에 메소드 호출로 다수 행을 처리한다.\n",
    "- executemany(sql, placeholder에 전달할값)\n",
    "    - placeholder에 전달할 값을 list로 묶어서 전달하면 sql문이 그 개수만큼 한번에 처리된다."
   ]
  },
  {
   "cell_type": "code",
   "execution_count": 63,
   "metadata": {},
   "outputs": [],
   "source": [
    "insert_sql = 'INSERT INTO test VALUES (:1, :2, :3)'\n",
    "param = [\n",
    "    ['a-1','이름1',20],\n",
    "    ['a-2','이름2',30],\n",
    "    ['a-3','이름3',40],\n",
    "    ['a-4','이름4',50]\n",
    "]\n",
    "\n",
    "with cx_Oracle.connect('c##scott_join/tiger@localhost:1521/XE') as conn:\n",
    "    with conn.cursor() as cursor:\n",
    "        cursor.executemany(insert_sql,param)\n",
    "        conn.commit()"
   ]
  },
  {
   "cell_type": "markdown",
   "metadata": {},
   "source": [
    "## TODO : 매개변수로 dept_id를 받아서 EMP 테이블에서 그 부서의 직원들의 salary를 두배 update하는 함수."
   ]
  },
  {
   "cell_type": "code",
   "execution_count": 4,
   "metadata": {},
   "outputs": [],
   "source": [
    "import cx_Oracle"
   ]
  },
  {
   "cell_type": "code",
   "execution_count": 5,
   "metadata": {},
   "outputs": [],
   "source": [
    "def update_salary_by_dept_id(dept_id):\n",
    "    update_sql = \"UPDATE emp SET salary = 2*salary WHERE dept_id = :1\"\n",
    "    select_sql = \"SELECT dept_id, salary FROM emp\"\n",
    "    \n",
    "    with cx_Oracle.connect('c##scott_join/tiger@localhost:1521/XE') as conn:\n",
    "        with conn.cursor() as cursor:\n",
    "            cursor.execute(update_sql,[dept_id])\n",
    "            conn.commit()\n",
    "            cursor.execute(select_sql)\n",
    "            return cursor.fetchall()"
   ]
  },
  {
   "cell_type": "markdown",
   "metadata": {},
   "source": [
    "## TODO : 매개변수로 job_id를 받아서 그 업무를 하는 직원들을 EMP 테이블에서 삭제하는 함수."
   ]
  },
  {
   "cell_type": "code",
   "execution_count": 6,
   "metadata": {},
   "outputs": [],
   "source": [
    "def delete_emp_by_job_id(job_id):\n",
    "    if job_id:\n",
    "        delete_sql = \"DELETE FROM emp WHERE job_id = :1\"\n",
    "    else:\n",
    "        delete_sql = \"DELETE FROM emp WHERE job_id is null\"\n",
    "    select_sql = \"SELECT * FROM emp WHERE job_id = :1\"\n",
    "    \n",
    "    with cx_Oracle.connect(\"c##scott_join/tiger@localhost:1521/XE\") as conn:\n",
    "        with conn.cursor() as cursor:\n",
    "            if job_id:\n",
    "                cursor.execute(delete_sql,[job_id])\n",
    "            else:\n",
    "                cursor.execute(delete_sql)\n",
    "            conn.commit()\n",
    "            cursor.execute(select_sql,[job_id])\n",
    "            return cursor.fetchall()"
   ]
  },
  {
   "cell_type": "code",
   "execution_count": 7,
   "metadata": {},
   "outputs": [
    {
     "data": {
      "text/plain": [
       "[]"
      ]
     },
     "execution_count": 7,
     "metadata": {},
     "output_type": "execute_result"
    }
   ],
   "source": [
    "delete_emp_by_job_id(\"FI_ACCOUNT\")\n",
    "delete_emp_by_job_id(None) # job_id 가 null인 행 삭제"
   ]
  },
  {
   "cell_type": "markdown",
   "metadata": {
    "slideshow": {
     "slide_type": "slide"
    }
   },
   "source": [
    "# TODO : 매개변수로 직원 이름을 입력받아 EMP 테이블에서 그  직원들의 전체 정보를 조회결과를 출력하는 함수."
   ]
  },
  {
   "cell_type": "code",
   "execution_count": 11,
   "metadata": {},
   "outputs": [],
   "source": [
    "def select_info_by_emp_name(emp_name):\n",
    "#     select_sql = \"SELECT * FROM emp where emp_name = :1\"\n",
    "    select_sql = \"SELECT * FROM emp WHERE emp_name LIKE '%'||:1||'%'\" # LIKE 연산자를 사용할 경우 연결연산자(||)사용 한다.\n",
    "    with cx_Oracle.connect(\"c##scott_join/tiger@localhost:1521/XE\") as conn:\n",
    "        with conn.cursor() as cursor:\n",
    "            cursor.execute(select_sql,[emp_name])\n",
    "            return cursor.fetchall()"
   ]
  },
  {
   "cell_type": "code",
   "execution_count": 12,
   "metadata": {},
   "outputs": [
    {
     "name": "stdout",
     "output_type": "stream",
     "text": [
      "[(105, 'David', 'IT_PROG', 103, datetime.datetime(2005, 6, 25, 0, 0), 4800.0, None, 60), (151, 'David', 'SA_REP', 145, datetime.datetime(2005, 3, 24, 0, 0), 9500.0, 0.25, 80), (163, 'Danielle', 'SA_REP', 147, datetime.datetime(2007, 3, 19, 0, 0), 9500.0, 0.15, 80), (165, 'David', 'SA_REP', 147, datetime.datetime(2008, 2, 23, 0, 0), 6800.0, 0.1, 80)]\n"
     ]
    }
   ],
   "source": [
    "print(select_info_by_emp_name(\"Da\"))"
   ]
  },
  {
   "cell_type": "markdown",
   "metadata": {
    "slideshow": {
     "slide_type": "slide"
    }
   },
   "source": [
    "# TODO: 사용자로 부터 직원정보를 입력받아 EMP 테이블에 입력한다.\n",
    "- emp_id, emp_name, job_id, mgr_id, hire_date, salary, comm_pct, dept_id 를 하나씩 입력받는다.\n",
    "- job_id, mgr_id, comm_pct, dept_id 을 입력하지 않은 경우 NULL 을 넣는다. (placehold 사용시 None을 대입)\n",
    "- 입력된 값을 EMP 테이블에 insert 한다.\n",
    "- 주의 job_id, mgr_id, dept_id는 FK 컬럼이므로 부모테이블의 PK값을 넣어야 한다."
   ]
  },
  {
   "cell_type": "code",
   "execution_count": 17,
   "metadata": {},
   "outputs": [],
   "source": [
    "def insert_emp():\n",
    "    # 사용자 입력 + 검증\n",
    "    emp_id = int(input(\"직원ID : \"))\n",
    "    \n",
    "    emp_name = input(\"이름: \")\n",
    "    \n",
    "    job_id = input(\"업무ID: \")\n",
    "    if len(job_id.strip()) == 0:\n",
    "        job_id = None\n",
    "    \n",
    "    try:\n",
    "        mgr_id = int(input(\"상사ID: \")) # Nullable 칼럼이기 때문에 EXCEPT로 NONE 값 입력\n",
    "    except:\n",
    "        mgr_id = None\n",
    "    \n",
    "    hire_date = input(\"입사일(형식:yyyymmdd): \")\n",
    "    \n",
    "    salary = int(input(\"급여: \"))\n",
    "    \n",
    "    try:\n",
    "        comm_pct = float(input(\"커미션율: \"))\n",
    "        if comm_pct >= 1:\n",
    "            raise Exception()\n",
    "    except:\n",
    "        comm_pct = None\n",
    "    \n",
    "    try:\n",
    "        dept_id = int(input(\"부서ID: \"))\n",
    "    except:\n",
    "        dept_id = None\n",
    "        \n",
    "    param = {\n",
    "        \"emp_id\" : emp_id,\n",
    "        \"emp_name\" : emp_name,\n",
    "        \"job_id\" : job_id,\n",
    "        \"mgr_id\" : mgr_id,\n",
    "        \"hire_date\" : hire_date,\n",
    "        \"salary\" : salary,\n",
    "        \"comm_pct\" : comm_pct,\n",
    "        \"dept_id\" : dept_id\n",
    "    }\n",
    "    \n",
    "    sql = \"INSERT INTO emp VALUES (:emp_id,:emp_name,:job_id,:mgr_id,to_date(:hire_date,'yyyymmdd'),:salary,:comm_pct,:dept_id)\"\n",
    "    \n",
    "    with cx_Oracle.connect('c##scott_join/tiger@localhost:1521/XE') as conn:\n",
    "        with conn.cursor() as cursor:\n",
    "            cursor.execute(sql,param)\n",
    "            conn.commit()\n",
    "            print(\"INSERT COMMPLETE\")\n"
   ]
  },
  {
   "cell_type": "code",
   "execution_count": 19,
   "metadata": {},
   "outputs": [
    {
     "name": "stdout",
     "output_type": "stream",
     "text": [
      "직원ID : 3500\n",
      "이름: 홍길동\n",
      "업무ID: FI_ACCOUNT\n",
      "상사ID: 108\n",
      "입사일(형식:yyyymmdd): 20000303\n",
      "급여: 10000\n",
      "커미션율: 0.3\n",
      "부서ID: 100\n",
      "INSERT COMMPLETE\n"
     ]
    }
   ],
   "source": [
    "insert_emp()"
   ]
  }
 ],
 "metadata": {
  "kernelspec": {
   "display_name": "Python 3",
   "language": "python",
   "name": "python3"
  },
  "language_info": {
   "codemirror_mode": {
    "name": "ipython",
    "version": 3
   },
   "file_extension": ".py",
   "mimetype": "text/x-python",
   "name": "python",
   "nbconvert_exporter": "python",
   "pygments_lexer": "ipython3",
   "version": "3.8.5"
  },
  "toc": {
   "base_numbering": 1,
   "nav_menu": {},
   "number_sections": true,
   "sideBar": true,
   "skip_h1_title": false,
   "title_cell": "Table of Contents",
   "title_sidebar": "Contents",
   "toc_cell": false,
   "toc_position": {},
   "toc_section_display": true,
   "toc_window_display": false
  },
  "varInspector": {
   "cols": {
    "lenName": 16,
    "lenType": 16,
    "lenVar": 40
   },
   "kernels_config": {
    "python": {
     "delete_cmd_postfix": "",
     "delete_cmd_prefix": "del ",
     "library": "var_list.py",
     "varRefreshCmd": "print(var_dic_list())"
    },
    "r": {
     "delete_cmd_postfix": ") ",
     "delete_cmd_prefix": "rm(",
     "library": "var_list.r",
     "varRefreshCmd": "cat(var_dic_list()) "
    }
   },
   "types_to_exclude": [
    "module",
    "function",
    "builtin_function_or_method",
    "instance",
    "_Feature"
   ],
   "window_display": false
  }
 },
 "nbformat": 4,
 "nbformat_minor": 2
}
