{
 "cells": [
  {
   "cell_type": "markdown",
   "metadata": {},
   "source": [
    "# 인덱싱과 슬라이싱을 이용한 배열의 원소 조회"
   ]
  },
  {
   "cell_type": "markdown",
   "metadata": {},
   "source": [
    "## 배열 인덱싱(Indexing)\n",
    "- ### index\n",
    "    - 배열내의 원소의 식별번호\n",
    "    - 0부터 시작\n",
    "    - 뒤에서부터 -1로 시작\n",
    "- ### indexing \n",
    "    – index를 이용해 원소 조회\n",
    "    - [] 표기법 사용\n",
    "- ### 구문 \n",
    "    - ndarray[index]\n",
    "    - 양수는 지정한 index의 값을 조회한다. \n",
    "    - 음수는 뒤부터 조회한다. \n",
    "        - 마지막 index가 -1\n",
    "    - 2차원배열의 경우 \n",
    "        - arr[행index, 열index]\n",
    "        - 파이썬 리스트와 차이점 (list[행][열])\n",
    "    - N차원 배열의 경우\n",
    "        - arr[0축 index, 1축 index, ..., n축 index]\n",
    "- ### 팬시(fancy) 인덱싱\n",
    "    - **여러개의 원소를 한번에 조회**할 경우 리스트에 담아 전달한다.\n",
    "    - 다차원 배열의 경우 각 축별로 list로 지정\n",
    "    - `arr[[1,2,3,4,5]]`\n",
    "        - 1차원 배열(vector): 1,2,3,4,5 번 index의 원소들 한번에 조회\n",
    "    - `arr[[0,3],[ 1,4]]`\n",
    "        - [0,3] - 1번축 index list, [1,4] - 2번축 index list\n",
    "        - 2차원 배열(matrix): [0,1], [3,4] 의 원소들 조회"
   ]
  },
  {
   "cell_type": "code",
   "execution_count": 28,
   "metadata": {},
   "outputs": [
    {
     "name": "stdout",
     "output_type": "stream",
     "text": [
      "[[[[ 0  1]\n",
      "   [ 2  3]\n",
      "   [ 4  5]]\n",
      "\n",
      "  [[ 6  7]\n",
      "   [ 8  9]\n",
      "   [10 11]]]]\n",
      "(array([0], dtype=int64), array([1], dtype=int64), array([0], dtype=int64), array([1], dtype=int64))\n",
      "[7]\n"
     ]
    }
   ],
   "source": [
    "import numpy as np\n",
    "b = np.arange(12).reshape(1,2,3,2)\n",
    "idx = np.where(b==7)\n",
    "print(b)\n",
    "print(idx)\n",
    "print(b[idx])"
   ]
  },
  {
   "cell_type": "code",
   "execution_count": 18,
   "metadata": {},
   "outputs": [
    {
     "name": "stdout",
     "output_type": "stream",
     "text": [
      "(3, 4)\n",
      "[[ 0  1  2  3]\n",
      " [ 4  5  6  7]\n",
      " [ 8  9 10 11]]\n"
     ]
    }
   ],
   "source": [
    "arr = np.arange(12).reshape(3,4)\n",
    "print(arr.shape)\n",
    "print(arr)"
   ]
  },
  {
   "cell_type": "code",
   "execution_count": 25,
   "metadata": {},
   "outputs": [
    {
     "data": {
      "text/plain": [
       "array([ 1, 11])"
      ]
     },
     "execution_count": 25,
     "metadata": {},
     "output_type": "execute_result"
    }
   ],
   "source": [
    "arr[[0,2],[1,3]] # arr[ [0축], [1축], [2축], .. ,[N축]]"
   ]
  },
  {
   "cell_type": "code",
   "execution_count": 26,
   "metadata": {},
   "outputs": [
    {
     "data": {
      "text/plain": [
       "array([4, 9, 3])"
      ]
     },
     "execution_count": 26,
     "metadata": {},
     "output_type": "execute_result"
    }
   ],
   "source": [
    "arr[[1,2,0],[0,1,3]] "
   ]
  },
  {
   "cell_type": "code",
   "execution_count": 29,
   "metadata": {},
   "outputs": [
    {
     "data": {
      "text/plain": [
       "array([  0,   1,   2,   3,   4, 500,   6, 700,   8,   9,  10,  11])"
      ]
     },
     "execution_count": 29,
     "metadata": {},
     "output_type": "execute_result"
    }
   ],
   "source": [
    "arr2 = np.arange(12)\n",
    "arr2[[5,7],] = 500, 700\n",
    "arr2"
   ]
  },
  {
   "cell_type": "markdown",
   "metadata": {},
   "source": [
    "## 슬라이싱\n",
    "- 배열의 부분 집합을 하위배열로 조회 및 변경하는 방식\n",
    "- ndarry[start : stop : step ]\n",
    "    - start : 시작 인덱스. 기본값 0\n",
    "    - stop : 끝 index. stop은 포함하지 않는다. 기본값 마지막 index\n",
    "    - step : 증감 간격. 기본값 1)"
   ]
  },
  {
   "cell_type": "code",
   "execution_count": 38,
   "metadata": {},
   "outputs": [
    {
     "name": "stdout",
     "output_type": "stream",
     "text": [
      "[3 4 5 6 7 8 9]\n",
      "[ 5 15 25 35 45 55]\n",
      "[ 0 10 20 30 40 50 60 70 80 90]\n"
     ]
    }
   ],
   "source": [
    "arr = np.arange(100)\n",
    "print(arr[3:10])\n",
    "print(arr[5:61:10])\n",
    "print(arr[::10])"
   ]
  },
  {
   "cell_type": "markdown",
   "metadata": {},
   "source": [
    "### 다차원 배열 슬라이싱\n",
    "- 각 축에 slicing 문법 적용\n",
    "- 2차원의 경우\n",
    "    - arr [행 slicing, 열 slicing]\n",
    "        - `arr[:3, :]`\n",
    "    - `,` 로 행과 열을 구분한 다중 슬라이싱 사용\n",
    "- 다차원의 경우\n",
    "    - arr[0축 slicing, 1축 slicing, ..., n축 slicing]\n",
    "- slicing과 indexing 문법은 같이 쓸 수 있다.\n",
    "- 모든 축에 index를 지정할 필요는 없다."
   ]
  },
  {
   "cell_type": "code",
   "execution_count": 65,
   "metadata": {},
   "outputs": [
    {
     "name": "stdout",
     "output_type": "stream",
     "text": [
      "[[ 0  1  2  3  4]\n",
      " [ 5  6  7  8  9]\n",
      " [10 11 12 13 14]\n",
      " [15 16 17 18 19]\n",
      " [20 21 22 23 24]\n",
      " [25 26 27 28 29]]\n",
      "[[ 7  8]\n",
      " [12 13]\n",
      " [17 18]\n",
      " [22 23]]\n",
      "[[ 7  9]\n",
      " [12 14]\n",
      " [17 19]\n",
      " [22 24]]\n"
     ]
    }
   ],
   "source": [
    "a = np.arange(30).reshape(6,5)\n",
    "print(a)\n",
    "print(a[1:5,2:4]) # 다차원 슬라이싱\n",
    "print(a[1:5,[2,4]]) # 슬라이싱 + Fancy Indexing"
   ]
  },
  {
   "cell_type": "code",
   "execution_count": 67,
   "metadata": {},
   "outputs": [
    {
     "data": {
      "text/plain": [
       "array([[ 0,  1,  2,  3],\n",
       "       [ 5,  6,  7,  8],\n",
       "       [10, 11, 12, 13],\n",
       "       [15, 16, 17, 18],\n",
       "       [20, 21, 22, 23],\n",
       "       [25, 26, 27, 28]])"
      ]
     },
     "execution_count": 67,
     "metadata": {},
     "output_type": "execute_result"
    }
   ],
   "source": [
    "a[:,:-1]"
   ]
  },
  {
   "cell_type": "code",
   "execution_count": 68,
   "metadata": {},
   "outputs": [
    {
     "data": {
      "text/plain": [
       "array([[25, 26, 27, 28, 29],\n",
       "       [20, 21, 22, 23, 24],\n",
       "       [15, 16, 17, 18, 19],\n",
       "       [10, 11, 12, 13, 14],\n",
       "       [ 5,  6,  7,  8,  9],\n",
       "       [ 0,  1,  2,  3,  4]])"
      ]
     },
     "execution_count": 68,
     "metadata": {},
     "output_type": "execute_result"
    }
   ],
   "source": [
    "a[::-1,:]"
   ]
  },
  {
   "cell_type": "code",
   "execution_count": 69,
   "metadata": {},
   "outputs": [
    {
     "data": {
      "text/plain": [
       "array([[29, 28, 27, 26, 25],\n",
       "       [24, 23, 22, 21, 20],\n",
       "       [19, 18, 17, 16, 15],\n",
       "       [14, 13, 12, 11, 10],\n",
       "       [ 9,  8,  7,  6,  5],\n",
       "       [ 4,  3,  2,  1,  0]])"
      ]
     },
     "execution_count": 69,
     "metadata": {},
     "output_type": "execute_result"
    }
   ],
   "source": [
    "a[::-1,::-1]"
   ]
  },
  {
   "cell_type": "code",
   "execution_count": 71,
   "metadata": {},
   "outputs": [
    {
     "data": {
      "text/plain": [
       "array([[25, 26, 27, 28, 29],\n",
       "       [20, 21, 22, 23, 24],\n",
       "       [15, 16, 17, 18, 19],\n",
       "       [10, 11, 12, 13, 14],\n",
       "       [ 5,  6,  7,  8,  9],\n",
       "       [ 0,  1,  2,  3,  4]])"
      ]
     },
     "execution_count": 71,
     "metadata": {},
     "output_type": "execute_result"
    }
   ],
   "source": [
    "np.flip(a,axis=0)"
   ]
  },
  {
   "cell_type": "code",
   "execution_count": 73,
   "metadata": {},
   "outputs": [
    {
     "data": {
      "text/plain": [
       "array([8, 7, 6, 5, 4, 3, 2, 1, 0])"
      ]
     },
     "execution_count": 73,
     "metadata": {},
     "output_type": "execute_result"
    }
   ],
   "source": [
    "b=np.arange(9)\n",
    "b[::-1]"
   ]
  },
  {
   "cell_type": "markdown",
   "metadata": {},
   "source": [
    "### 슬라이싱은 원본에 대한 View \n",
    "- slicing한 결과는 새로운 배열을 생성하는 것이 아니라 기존 배열을 참조한다.\n",
    "- slicing한 배열의 원소를 변경하면 원본 배열의 것도 바뀐다.\n",
    "- 배열.copy()\n",
    "    - 배열을 복사한 새로운 배열 생성\n",
    "    - 복사후 처리하면 원본이 바뀌지 않는다."
   ]
  },
  {
   "cell_type": "code",
   "execution_count": 74,
   "metadata": {},
   "outputs": [
    {
     "data": {
      "text/plain": [
       "array([[ 1,  2,  3],\n",
       "       [ 6,  7,  8],\n",
       "       [11, 12, 13],\n",
       "       [16, 17, 18],\n",
       "       [21, 22, 23],\n",
       "       [26, 27, 28]])"
      ]
     },
     "execution_count": 74,
     "metadata": {},
     "output_type": "execute_result"
    }
   ],
   "source": [
    "a=np.arange(30).reshape(6,5)\n",
    "b = a[:,1:4]\n",
    "b"
   ]
  },
  {
   "cell_type": "code",
   "execution_count": 75,
   "metadata": {},
   "outputs": [
    {
     "name": "stdout",
     "output_type": "stream",
     "text": [
      "[[10000     2     3]\n",
      " [    6     7     8]\n",
      " [   11    12    13]\n",
      " [   16    17    18]\n",
      " [   21    22    23]\n",
      " [   26    27    28]]\n",
      "[[    0 10000     2     3     4]\n",
      " [    5     6     7     8     9]\n",
      " [   10    11    12    13    14]\n",
      " [   15    16    17    18    19]\n",
      " [   20    21    22    23    24]\n",
      " [   25    26    27    28    29]]\n"
     ]
    }
   ],
   "source": [
    "b[0,0]=10000\n",
    "print(b)\n",
    "print(a)"
   ]
  },
  {
   "cell_type": "code",
   "execution_count": 76,
   "metadata": {},
   "outputs": [],
   "source": [
    "b=b.copy()\n",
    "b[0,0]=5000"
   ]
  },
  {
   "cell_type": "code",
   "execution_count": 77,
   "metadata": {},
   "outputs": [
    {
     "name": "stdout",
     "output_type": "stream",
     "text": [
      "[[5000    2    3]\n",
      " [   6    7    8]\n",
      " [  11   12   13]\n",
      " [  16   17   18]\n",
      " [  21   22   23]\n",
      " [  26   27   28]]\n",
      "[[    0 10000     2     3     4]\n",
      " [    5     6     7     8     9]\n",
      " [   10    11    12    13    14]\n",
      " [   15    16    17    18    19]\n",
      " [   20    21    22    23    24]\n",
      " [   25    26    27    28    29]]\n"
     ]
    }
   ],
   "source": [
    "print(b)\n",
    "print(a)"
   ]
  },
  {
   "cell_type": "markdown",
   "metadata": {},
   "source": [
    "## boolean indexing\n",
    "- Index 연산자에 Boolean 배열을 넣으면 True인 index의 값만 조회 (False가 있는 index는 조회하지 않는다.)\n",
    "- ndarray내의 원소 중에서 원하는 조건의 값들만 조회할 때 사용"
   ]
  },
  {
   "cell_type": "code",
   "execution_count": 2,
   "metadata": {},
   "outputs": [],
   "source": [
    "import numpy as np"
   ]
  },
  {
   "cell_type": "code",
   "execution_count": 3,
   "metadata": {},
   "outputs": [
    {
     "data": {
      "text/plain": [
       "array([2, 3, 5])"
      ]
     },
     "execution_count": 3,
     "metadata": {},
     "output_type": "execute_result"
    }
   ],
   "source": [
    "a=np.array([1,2,3,4,5])\n",
    "b=[False,True,True,False,True,]\n",
    "a[b]"
   ]
  },
  {
   "cell_type": "code",
   "execution_count": 4,
   "metadata": {},
   "outputs": [
    {
     "name": "stdout",
     "output_type": "stream",
     "text": [
      "[11 22 33]\n",
      "[21 22 23]\n"
     ]
    }
   ],
   "source": [
    "# 벡터화 (연산)\n",
    "# 배열 + 배열 : 같은 인덱스 원소끼리 연산\n",
    "# 배열 + scalar : 배열의 모든 원소들과 scalar 연산\n",
    "a = np.array([1,2,3])\n",
    "b = np.array([10,20,30])\n",
    "print(a+b)\n",
    "print(a+20)"
   ]
  },
  {
   "cell_type": "code",
   "execution_count": 5,
   "metadata": {},
   "outputs": [
    {
     "name": "stdout",
     "output_type": "stream",
     "text": [
      "[[ 0  1  2  3  4  5  6  7  8  9 10 11 12 13 14 15 16 17 18 19 20 21 22 23\n",
      "  24 25 26 27 28 29 30 31 32 33 34 35 36 37 38 39 40 41 42 43 44 45 46 47\n",
      "  48 49]\n",
      " [50 51 52 53 54 55 56 57 58 59 60 61 62 63 64 65 66 67 68 69 70 71 72 73\n",
      "  74 75 76 77 78 79 80 81 82 83 84 85 86 87 88 89 90 91 92 93 94 95 96 97\n",
      "  98 99]]\n",
      "[50 51 52 53 54 55 56 57 58 59 60 61 62 63 64 65 66 67 68 69 70 71 72 73\n",
      " 74 75 76 77 78 79 80 81 82 83 84 85 86 87 88 89 90 91 92 93 94 95 96 97\n",
      " 98 99]\n"
     ]
    }
   ],
   "source": [
    "arr = np.arange(100)\n",
    "np.random.shuffle(arr)\n",
    "arr2 = np.arange(100).reshape(2,50)\n",
    "print(arr2)\n",
    "print(arr2[arr2 >= 50]) # 특정 조건을 만족하는 값을 찾을 때, 배열에 boolen indexing"
   ]
  },
  {
   "cell_type": "markdown",
   "metadata": {},
   "source": [
    "## Numpy에서 비교연산자\n",
    "- 파이썬 비교 연산자인 and, or, not을 사용 X\n",
    "- `&` : and\n",
    "- `\\` : or\n",
    "- `~` : not\n",
    "- 피연산자들은 ( ) 묶어야 한다."
   ]
  },
  {
   "cell_type": "code",
   "execution_count": 7,
   "metadata": {},
   "outputs": [
    {
     "data": {
      "text/plain": [
       "array([20, 21, 22, 23, 24, 25, 26, 27, 28, 29, 30])"
      ]
     },
     "execution_count": 7,
     "metadata": {},
     "output_type": "execute_result"
    }
   ],
   "source": [
    "# 20 ~ 30\n",
    "arr2[(arr2 >= 20) & (arr2 <=30)]"
   ]
  },
  {
   "cell_type": "code",
   "execution_count": 9,
   "metadata": {},
   "outputs": [
    {
     "data": {
      "text/plain": [
       "array([ 0,  1,  2,  3,  4,  5,  6,  7,  8,  9, 10, 11, 12, 13, 14, 15, 16,\n",
       "       17, 18, 19, 20, 21, 22, 23, 24, 25, 26, 27, 28, 29, 30, 31, 32, 33,\n",
       "       34, 35, 36, 37, 38, 39, 40, 41, 42, 43, 44, 45, 46, 47, 48, 49, 50])"
      ]
     },
     "execution_count": 9,
     "metadata": {},
     "output_type": "execute_result"
    }
   ],
   "source": [
    "# 50보다 크지 않은 값들\n",
    "arr2[~(arr2>50)]"
   ]
  },
  {
   "cell_type": "markdown",
   "metadata": {},
   "source": [
    "### np.where()\n",
    "- np.where(boolean 배열) - True인 index를 반환\n",
    "- boolean연산과 같이쓰면 특정 조건을 만족하는 원소의 index조회됨.\n",
    "- np.where(booean 배열, True를 대체할 값, False를 대체할 값)\n",
    "    - True와 False를 다른 값으로 변경한다."
   ]
  },
  {
   "cell_type": "code",
   "execution_count": 11,
   "metadata": {},
   "outputs": [
    {
     "name": "stdout",
     "output_type": "stream",
     "text": [
      "<class 'tuple'>\n",
      "(array([0, 2], dtype=int64),)\n"
     ]
    }
   ],
   "source": [
    "a = np.array([True,False,True])\n",
    "r = np.where(a) # True인 index들을 튜플안에 ndarray에 담아서 반환\n",
    "print(type(r))\n",
    "print(r)"
   ]
  },
  {
   "cell_type": "code",
   "execution_count": 14,
   "metadata": {},
   "outputs": [
    {
     "data": {
      "text/plain": [
       "(array([ 0,  2,  3,  5,  6,  8, 11, 14, 16, 17, 19, 20, 23, 25, 26, 27, 32,\n",
       "        33, 34, 36, 38, 39, 40, 42, 43, 44, 46, 47, 48, 49, 53, 56, 58, 60,\n",
       "        65, 69, 70, 72, 74, 76, 82, 84, 87, 88, 91, 92, 96, 97, 98, 99],\n",
       "       dtype=int64),)"
      ]
     },
     "execution_count": 14,
     "metadata": {},
     "output_type": "execute_result"
    }
   ],
   "source": [
    "arr = np.arange(100)\n",
    "np.random.shuffle(arr)\n",
    "np.where(arr >= 50)"
   ]
  },
  {
   "cell_type": "code",
   "execution_count": 16,
   "metadata": {},
   "outputs": [
    {
     "data": {
      "text/plain": [
       "array(['참', '거짓', '참'], dtype='<U2')"
      ]
     },
     "execution_count": 16,
     "metadata": {},
     "output_type": "execute_result"
    }
   ],
   "source": [
    "np.where(a,'참','거짓')"
   ]
  },
  {
   "cell_type": "code",
   "execution_count": 17,
   "metadata": {},
   "outputs": [
    {
     "data": {
      "text/plain": [
       "array(['50up', '50down', '50up', '50up', '50down', '50up', '50up',\n",
       "       '50down', '50up', '50down', '50down', '50up', '50down', '50down',\n",
       "       '50up', '50down', '50up', '50up', '50down', '50up', '50up',\n",
       "       '50down', '50down', '50up', '50down', '50up', '50up', '50up',\n",
       "       '50down', '50down', '50down', '50down', '50up', '50up', '50up',\n",
       "       '50down', '50up', '50down', '50up', '50up', '50up', '50down',\n",
       "       '50up', '50up', '50up', '50down', '50up', '50up', '50up', '50up',\n",
       "       '50down', '50down', '50down', '50up', '50down', '50down', '50up',\n",
       "       '50down', '50up', '50down', '50up', '50down', '50down', '50down',\n",
       "       '50down', '50up', '50down', '50down', '50down', '50up', '50up',\n",
       "       '50down', '50up', '50down', '50up', '50down', '50up', '50down',\n",
       "       '50down', '50down', '50down', '50down', '50up', '50down', '50up',\n",
       "       '50down', '50down', '50up', '50up', '50down', '50down', '50up',\n",
       "       '50up', '50down', '50down', '50down', '50up', '50up', '50up',\n",
       "       '50up'], dtype='<U6')"
      ]
     },
     "execution_count": 17,
     "metadata": {},
     "output_type": "execute_result"
    }
   ],
   "source": [
    "np.where(arr>=50,\"50up\",\"50down\")"
   ]
  },
  {
   "cell_type": "code",
   "execution_count": 18,
   "metadata": {},
   "outputs": [
    {
     "data": {
      "text/plain": [
       "array(['50up', '13', '50up', '50up', '38', '50up', '50up', '46', '50up',\n",
       "       '16', '28', '50up', '41', '35', '50up', '10', '50up', '50up', '48',\n",
       "       '50up', '50up', '9', '24', '50up', '34', '50up', '50up', '50up',\n",
       "       '18', '33', '27', '12', '50up', '50up', '50up', '1', '50up', '0',\n",
       "       '50up', '50up', '50up', '36', '50up', '50up', '50up', '5', '50up',\n",
       "       '50up', '50up', '50up', '15', '8', '6', '50up', '43', '47', '50up',\n",
       "       '40', '50up', '26', '50up', '4', '7', '3', '20', '50up', '37',\n",
       "       '39', '49', '50up', '50up', '2', '50up', '29', '50up', '11',\n",
       "       '50up', '31', '22', '45', '32', '23', '50up', '42', '50up', '17',\n",
       "       '44', '50up', '50up', '25', '14', '50up', '50up', '19', '21', '30',\n",
       "       '50up', '50up', '50up', '50up'], dtype='<U11')"
      ]
     },
     "execution_count": 18,
     "metadata": {},
     "output_type": "execute_result"
    }
   ],
   "source": [
    "np.where(arr>=50,'50up',arr)"
   ]
  },
  {
   "cell_type": "code",
   "execution_count": 41,
   "metadata": {},
   "outputs": [
    {
     "name": "stdout",
     "output_type": "stream",
     "text": [
      "[2 1 1 2 1 0 0 2 0 1 0 1 0 2 0 0 0 1 1 0]\n"
     ]
    },
    {
     "data": {
      "text/plain": [
       "array(['사람', '남성', '남성', '사람', '남성', '여성', '여성', '사람', '여성', '남성', '여성',\n",
       "       '남성', '여성', '사람', '여성', '여성', '여성', '남성', '남성', '여성'], dtype='<U2')"
      ]
     },
     "execution_count": 41,
     "metadata": {},
     "output_type": "execute_result"
    }
   ],
   "source": [
    "# 0:여성, 1:남성\n",
    "gender = np.random.choice([0,1,2],size = 20)\n",
    "# print(np.where(gender == 0,'여성','남성'))\n",
    "print(gender)\n",
    "np.where(gender == 0 , '여성', (np.where(gender == 1, '남성', '사람')))"
   ]
  },
  {
   "cell_type": "markdown",
   "metadata": {},
   "source": [
    "- 2차원도 마찮가지\n",
    "    - 단 where는 축별로 배열이 반환된다. [0,1], [2,3] => (0,2)  (1,3)\n",
    "    - 보통 Vector에 적용한다."
   ]
  },
  {
   "cell_type": "code",
   "execution_count": 35,
   "metadata": {},
   "outputs": [
    {
     "name": "stdout",
     "output_type": "stream",
     "text": [
      "<class 'numpy.ndarray'>\n",
      "[(0, 1), (0, 2), (1, 2), (2, 0), (2, 2)]\n"
     ]
    }
   ],
   "source": [
    "arr2 = [\n",
    "    [1,10,7],\n",
    "    [4,2,10],\n",
    "    [10,2,8],\n",
    "]\n",
    "arr2 = np.array(arr2)\n",
    "r = np.where(arr2>=5)\n",
    "print(type(r[0]))\n",
    "\n",
    "idx = [i for i in zip(*r)]\n",
    "print(idx)"
   ]
  },
  {
   "cell_type": "markdown",
   "metadata": {},
   "source": [
    "### 기타\n",
    "- np.any(boolean 배열)\n",
    "    - 배열에 True가 하나라도 있으면 True 반환\n",
    "- np.all(boolean 배열)\n",
    "    - 배열의 모든 원소가 True이면 True 반환"
   ]
  },
  {
   "cell_type": "code",
   "execution_count": 39,
   "metadata": {},
   "outputs": [
    {
     "name": "stdout",
     "output_type": "stream",
     "text": [
      "True\n",
      "False\n"
     ]
    }
   ],
   "source": [
    "print(np.any(arr>50)) # arr 안에 50 초과인 값이 하나라도 있는지.\n",
    "print(np.all(arr>50)) # arr 안에 모든값이 50 초과인 값을 갖는지"
   ]
  },
  {
   "cell_type": "code",
   "execution_count": 37,
   "metadata": {},
   "outputs": [
    {
     "data": {
      "text/plain": [
       "array([61, 13, 78, 75, 38, 64, 57, 46, 98, 16, 28, 69, 41, 35, 90, 10, 55,\n",
       "       68, 48, 72, 51,  9, 24, 60, 34, 84, 87, 89, 18, 33, 27, 12, 91, 81,\n",
       "       65,  1, 80,  0, 95, 76, 70, 36, 83, 92, 56,  5, 74, 94, 73, 52, 15,\n",
       "        8,  6, 85, 43, 47, 54, 40, 67, 26, 79,  4,  7,  3, 20, 50, 37, 39,\n",
       "       49, 58, 53,  2, 77, 29, 99, 11, 66, 31, 22, 45, 32, 23, 62, 42, 71,\n",
       "       17, 44, 63, 97, 25, 14, 86, 93, 19, 21, 30, 96, 82, 88, 59])"
      ]
     },
     "execution_count": 37,
     "metadata": {},
     "output_type": "execute_result"
    }
   ],
   "source": [
    "arr"
   ]
  },
  {
   "cell_type": "code",
   "execution_count": 42,
   "metadata": {},
   "outputs": [
    {
     "data": {
      "text/plain": [
       "49"
      ]
     },
     "execution_count": 42,
     "metadata": {},
     "output_type": "execute_result"
    }
   ],
   "source": [
    "# 50 초과 값이 몇개?\n",
    "np.sum(arr>50) # sum() : 배열내 원소 총합계, boolean배열 -> True:1, False:0 으로 처리 후 계산"
   ]
  },
  {
   "cell_type": "markdown",
   "metadata": {},
   "source": [
    "### 정렬\n",
    "- np.sort(arr)/ndarray.sort(): arr을 정렬\n",
    "    - np.sort : 배열을 정렬한 결고를 가진 새로운 배열을 반환(카피본), 원본 안바뀜\n",
    "    - ndarray.sort() : 원본배열을 정렬\n",
    "- np.argsort(arr): 정렬 후 index를 반환\n",
    "- 오름차순만 지원. 내림차순을 할 경우 정렬 후 reverse 해야한다."
   ]
  },
  {
   "cell_type": "code",
   "execution_count": 51,
   "metadata": {},
   "outputs": [
    {
     "name": "stdout",
     "output_type": "stream",
     "text": [
      "[ 0  1  2  3  4  5  6  7  8  9 10 11 12 13 14 15 16 17 18 19 20 21 22 23\n",
      " 24 25 26 27 28 29 30 31 32 33 34 35 36 37 38 39 40 41 42 43 44 45 46 47\n",
      " 48 49 50 51 52 53 54 55 56 57 58 59 60 61 62 63 64 65 66 67 68 69 70 71\n",
      " 72 73 74 75 76 77 78 79 80 81 82 83 84 85 86 87 88 89 90 91 92 93 94 95\n",
      " 96 97 98 99]\n",
      "[93 99 69 58 85 86 90 79 30 11 88 50 49 19 60 15 91 14  9 36 87 20 26 45\n",
      " 80 40 29 82  6 57 64 35 52 18 77 70 23 68 48 43 51 24 55 27 95 72 63 66\n",
      " 53 32 22  0 75 38 76 83 12 73 74 28 34 10 78 54 16 56 39  2 71 97 98 84\n",
      " 47  3 17 92 13 31  1 89 96 25  5 21 42 46 44  8  4 65 62 67 41 61 33 81\n",
      " 94 37 59  7]\n"
     ]
    }
   ],
   "source": [
    "np.random.shuffle(arr)\n",
    "print(arr)\n",
    "x = np.sort(arr)\n",
    "print(x)"
   ]
  },
  {
   "cell_type": "code",
   "execution_count": 48,
   "metadata": {},
   "outputs": [
    {
     "data": {
      "text/plain": [
       "array([ 0,  1,  2,  3,  4,  5,  6,  7,  8,  9, 10, 11, 12, 13, 14, 15, 16,\n",
       "       17, 18, 19, 20, 21, 22, 23, 24, 25, 26, 27, 28, 29, 30, 31, 32, 33,\n",
       "       34, 35, 36, 37, 38, 39, 40, 41, 42, 43, 44, 45, 46, 47, 48, 49, 50,\n",
       "       51, 52, 53, 54, 55, 56, 57, 58, 59, 60, 61, 62, 63, 64, 65, 66, 67,\n",
       "       68, 69, 70, 71, 72, 73, 74, 75, 76, 77, 78, 79, 80, 81, 82, 83, 84,\n",
       "       85, 86, 87, 88, 89, 90, 91, 92, 93, 94, 95, 96, 97, 98, 99])"
      ]
     },
     "execution_count": 48,
     "metadata": {},
     "output_type": "execute_result"
    }
   ],
   "source": [
    "arr.sort()\n",
    "arr"
   ]
  },
  {
   "cell_type": "code",
   "execution_count": 59,
   "metadata": {},
   "outputs": [
    {
     "name": "stdout",
     "output_type": "stream",
     "text": [
      "[5 3 2 1]\n",
      "[5 3 2 1]\n"
     ]
    }
   ],
   "source": [
    "# 내림차순 설정\n",
    "a = np.array([3,1,5,2])\n",
    "print(np.sort(a)[::-1])\n",
    "a.sort()\n",
    "print(a[::-1])"
   ]
  },
  {
   "cell_type": "code",
   "execution_count": 64,
   "metadata": {},
   "outputs": [
    {
     "name": "stdout",
     "output_type": "stream",
     "text": [
      "[1 3 0 2]\n",
      "[1 2 3 5]\n"
     ]
    }
   ],
   "source": [
    "b = np.array([3,1,5,2]) \n",
    "print(np.argsort(b)) # index 반환\n",
    "print(b[np.argsort(b)])"
   ]
  },
  {
   "cell_type": "code",
   "execution_count": 68,
   "metadata": {},
   "outputs": [
    {
     "name": "stdout",
     "output_type": "stream",
     "text": [
      "[[ 1  1  5]\n",
      " [ 3  2  5]\n",
      " [10 20  9]]\n"
     ]
    }
   ],
   "source": [
    "l = [\n",
    "    [3,1,5],\n",
    "    [1,2,9],\n",
    "    [10,20,5],\n",
    "]\n",
    "b = np.array(l)\n",
    "print(np.sort(b,axis=0))\n",
    "print(np.sort(b,axis=1)) # defalut axis = -1, 마지막 차원"
   ]
  }
 ],
 "metadata": {
  "kernelspec": {
   "display_name": "Python 3",
   "language": "python",
   "name": "python3"
  },
  "language_info": {
   "codemirror_mode": {
    "name": "ipython",
    "version": 3
   },
   "file_extension": ".py",
   "mimetype": "text/x-python",
   "name": "python",
   "nbconvert_exporter": "python",
   "pygments_lexer": "ipython3",
   "version": "3.8.5"
  },
  "toc": {
   "base_numbering": 1,
   "nav_menu": {},
   "number_sections": false,
   "sideBar": false,
   "skip_h1_title": false,
   "title_cell": "Table of Contents",
   "title_sidebar": "Contents",
   "toc_cell": false,
   "toc_position": {},
   "toc_section_display": true,
   "toc_window_display": false
  },
  "varInspector": {
   "cols": {
    "lenName": 16,
    "lenType": 16,
    "lenVar": 40
   },
   "kernels_config": {
    "python": {
     "delete_cmd_postfix": "",
     "delete_cmd_prefix": "del ",
     "library": "var_list.py",
     "varRefreshCmd": "print(var_dic_list())"
    },
    "r": {
     "delete_cmd_postfix": ") ",
     "delete_cmd_prefix": "rm(",
     "library": "var_list.r",
     "varRefreshCmd": "cat(var_dic_list()) "
    }
   },
   "types_to_exclude": [
    "module",
    "function",
    "builtin_function_or_method",
    "instance",
    "_Feature"
   ],
   "window_display": false
  }
 },
 "nbformat": 4,
 "nbformat_minor": 2
}
